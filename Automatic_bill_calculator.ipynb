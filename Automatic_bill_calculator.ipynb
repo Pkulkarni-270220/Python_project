{
  "nbformat": 4,
  "nbformat_minor": 0,
  "metadata": {
    "colab": {
      "name": "Automatic bill calculator",
      "provenance": [],
      "authorship_tag": "ABX9TyMf8AFoCB8y1mbKAzt47DoY",
      "include_colab_link": true
    },
    "kernelspec": {
      "name": "python3",
      "display_name": "Python 3"
    },
    "language_info": {
      "name": "python"
    }
  },
  "cells": [
    {
      "cell_type": "markdown",
      "metadata": {
        "id": "view-in-github",
        "colab_type": "text"
      },
      "source": [
        "<a href=\"https://colab.research.google.com/github/Pkulkarni-270220/Python_project/blob/main/Automatic_bill_calculator.ipynb\" target=\"_parent\"><img src=\"https://colab.research.google.com/assets/colab-badge.svg\" alt=\"Open In Colab\"/></a>"
      ]
    },
    {
      "cell_type": "code",
      "metadata": {
        "colab": {
          "base_uri": "https://localhost:8080/"
        },
        "id": "0gerKM3PXgoL",
        "outputId": "25b85fe7-9fb7-4b59-bcb7-b7ec966479c1"
      },
      "source": [
        "ind = input(\"enter mr or miss or mrs\")\n",
        "name = input(\"enter the name\")\n",
        "size = input(\"enter the pizza\")\n",
        "pepperoni = input(\"enter the add on\")\n",
        "extra_cheese = input(\"enter the add on cheese\")\n",
        "bill = 0\n",
        "if size == \"s\":\n",
        "  bill += 15\n",
        "elif size == \"m\":\n",
        "  bill += 20\n",
        "else:\n",
        "  bill += 25\n",
        "\n",
        "if pepperoni == \"y\":\n",
        "  if size == \"s\":\n",
        "    bill += 2\n",
        "  else:\n",
        "    bill += 3\n",
        "\n",
        "if extra_cheese == \"y\":\n",
        "  bill += 1\n",
        "\n",
        "print(ind,name,\"Your final bill is: \",\"$\",bill)"
      ],
      "execution_count": 1,
      "outputs": [
        {
          "output_type": "stream",
          "text": [
            "enter mr or miss or mrsmr\n",
            "enter the nameprateek\n",
            "enter the pizzal\n",
            "enter the add ony\n",
            "enter the add on cheesey\n",
            "mr prateek Your final bill is:  $ 29\n"
          ],
          "name": "stdout"
        }
      ]
    }
  ]
}