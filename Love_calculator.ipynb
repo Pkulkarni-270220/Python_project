{
  "nbformat": 4,
  "nbformat_minor": 0,
  "metadata": {
    "colab": {
      "name": "Love calculator",
      "provenance": [],
      "authorship_tag": "ABX9TyMgr8Sqs63lYLwI8dGicnJ+",
      "include_colab_link": true
    },
    "kernelspec": {
      "name": "python3",
      "display_name": "Python 3"
    },
    "language_info": {
      "name": "python"
    }
  },
  "cells": [
    {
      "cell_type": "markdown",
      "metadata": {
        "id": "view-in-github",
        "colab_type": "text"
      },
      "source": [
        "<a href=\"https://colab.research.google.com/github/Pkulkarni-270220/Python_project/blob/main/Love_calculator.ipynb\" target=\"_parent\"><img src=\"https://colab.research.google.com/assets/colab-badge.svg\" alt=\"Open In Colab\"/></a>"
      ]
    },
    {
      "cell_type": "code",
      "metadata": {
        "colab": {
          "base_uri": "https://localhost:8080/"
        },
        "id": "7ts-u-k5Z9h3",
        "outputId": "0d571431-6f01-4bde-ad78-f943436ed62d"
      },
      "source": [
        "name1 = input(\"enter the name1\")\n",
        "name2 = input(\"enter the name2\")\n",
        "combined_name = name1 + name2\n",
        "lower_case = combined_name.lower()\n",
        "t = lower_case.count(\"t\")\n",
        "r = lower_case.count(\"r\")\n",
        "u = lower_case.count(\"u\")\n",
        "e = lower_case.count(\"e\")\n",
        "true = t+r+u+e\n",
        "l = lower_case.count(\"l\")\n",
        "o = lower_case.count(\"o\")\n",
        "v = lower_case.count(\"v\")\n",
        "e = lower_case.count(\"e\")\n",
        "love = l+o+v+e\n",
        "love_score = str(true)+str(love)\n",
        "print(love_score)\n"
      ],
      "execution_count": 1,
      "outputs": [
        {
          "output_type": "stream",
          "text": [
            "enter the name1Prateek\n",
            "enter the name2Parthvi\n",
            "63\n"
          ],
          "name": "stdout"
        }
      ]
    }
  ]
}